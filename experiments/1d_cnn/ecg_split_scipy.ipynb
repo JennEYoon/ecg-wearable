{
  "nbformat": 4,
  "nbformat_minor": 0,
  "metadata": {
    "colab": {
      "provenance": [],
      "mount_file_id": "https://github.com/JennEYoon/ECG-transform/blob/main/notebooks/ecg_split_scipy.ipynb",
      "authorship_tag": "ABX9TyO65Qebg3sm/mdOwG0VPVks",
      "include_colab_link": true
    },
    "kernelspec": {
      "name": "python3",
      "display_name": "Python 3"
    },
    "language_info": {
      "name": "python"
    }
  },
  "cells": [
    {
      "cell_type": "markdown",
      "metadata": {
        "id": "view-in-github",
        "colab_type": "text"
      },
      "source": [
        "<a href=\"https://colab.research.google.com/github/JennEYoon/ECG-transform/blob/main/notebooks/ecg_split_scipy.ipynb\" target=\"_parent\"><img src=\"https://colab.research.google.com/assets/colab-badge.svg\" alt=\"Open In Colab\"/></a>"
      ]
    },
    {
      "cell_type": "markdown",
      "source": [
        "## ECG data, simple split test, using SciPy library  \n",
        "PTB-XL data, 1st patient from g1 folder.  \n",
        "Author: Jennifer Yoon  \n",
        "Date: Dec 22, 2024 10:30pm start."
      ],
      "metadata": {
        "id": "8Q-bkkA8J2r8"
      }
    },
    {
      "cell_type": "code",
      "source": [
        "# Copy example file from Google Drive, ptb-xl 1st client, g1 folder\n",
        "\n",
        "file1 = \"HR00001.mat\"\n",
        "file2= \"HR00001.hea\"\n",
        "path1 = \"/content/drive/MyDrive/data/ECG-transform/data/ptb-xl/g1\"\n",
        "\n",
        "!cp /content/drive/MyDrive/data/ECG-transform/data/ptb-xl/g1/HR00001.mat .\n",
        "!cp /content/drive/MyDrive/data/ECG-transform/data/ptb-xl/g1/HR00001.hea .\n",
        "!ls"
      ],
      "metadata": {
        "colab": {
          "base_uri": "https://localhost:8080/"
        },
        "id": "ImAsxKD6HfoS",
        "outputId": "512e9125-7eff-400a-d28b-95476c19d0ce"
      },
      "execution_count": 11,
      "outputs": [
        {
          "output_type": "stream",
          "name": "stdout",
          "text": [
            "drive  HR00001.hea  HR00001.mat  sample_data\n"
          ]
        }
      ]
    },
    {
      "cell_type": "code",
      "source": [
        "# Later, figure out later how to use variable file names and path."
      ],
      "metadata": {
        "id": "HwRc1gktKUU6"
      },
      "execution_count": 10,
      "outputs": []
    },
    {
      "cell_type": "code",
      "source": [],
      "metadata": {
        "id": "a31XnVQzKUST"
      },
      "execution_count": null,
      "outputs": []
    },
    {
      "cell_type": "code",
      "source": [
        "# main libraries import\n",
        "import numpy as np\n",
        "import pandas as pd\n",
        "import matplotlib.pyplot as plt\n",
        "import matplotlib\n",
        "\n",
        "# scipy data import library\n",
        "import scipy.io\n",
        "\n",
        "# peak detection simple, use scipy signal\n",
        "import scipy.signal as signal"
      ],
      "metadata": {
        "id": "S-dGzKPMKUX6"
      },
      "execution_count": 29,
      "outputs": []
    },
    {
      "cell_type": "code",
      "source": [
        "# Load the .mat file\n",
        "mat_data = scipy.io.loadmat(file1, struct_as_record=False, squeeze_me=True)\n",
        "print(mat_data, type(mat_data))"
      ],
      "metadata": {
        "colab": {
          "base_uri": "https://localhost:8080/"
        },
        "id": "sw1StmwKKUas",
        "outputId": "faceb550-df05-405e-e005-06eea82f9133"
      },
      "execution_count": 13,
      "outputs": [
        {
          "output_type": "stream",
          "name": "stdout",
          "text": [
            "{'val': array([[-115, -115, -115, ...,  210,  210,  210],\n",
            "       [ -50,  -50,  -50, ...,  205,  205,  205],\n",
            "       [  65,   65,   65, ...,   -5,   -5,   -5],\n",
            "       ...,\n",
            "       [ -35,  -35,  -35, ...,  185,  185,  185],\n",
            "       [ -35,  -35,  -35, ...,  170,  170,  170],\n",
            "       [ -75,  -75,  -75, ...,  180,  180,  180]], dtype=int16)} <class 'dict'>\n"
          ]
        }
      ]
    },
    {
      "cell_type": "code",
      "source": [
        "print(mat_data.keys())\n"
      ],
      "metadata": {
        "id": "mTEh__tdRdxx",
        "outputId": "2d4a1a31-4cb0-4700-d084-97402fe105b3",
        "colab": {
          "base_uri": "https://localhost:8080/"
        }
      },
      "execution_count": 16,
      "outputs": [
        {
          "output_type": "stream",
          "name": "stdout",
          "text": [
            "dict_keys(['val'])\n"
          ]
        }
      ]
    },
    {
      "cell_type": "code",
      "source": [
        "data = mat_data['val']\n",
        "# downsmample all 12 leads first, 500 hertz to 125 hertz, 5000 to 1250 sample points\n",
        "data_dn = data[:, ::4]\n",
        "print(data_dn.shape)"
      ],
      "metadata": {
        "id": "cOxyMR7ORd1O",
        "outputId": "31c31659-33fc-4af6-9d66-571931db76c0",
        "colab": {
          "base_uri": "https://localhost:8080/"
        }
      },
      "execution_count": 26,
      "outputs": [
        {
          "output_type": "stream",
          "name": "stdout",
          "text": [
            "(12, 1250)\n"
          ]
        }
      ]
    },
    {
      "cell_type": "code",
      "source": [
        "type(data_dn)"
      ],
      "metadata": {
        "id": "m9e2bGbZTBaa",
        "outputId": "5124047b-4fb9-46b7-9796-239363f86dd3",
        "colab": {
          "base_uri": "https://localhost:8080/"
        }
      },
      "execution_count": 27,
      "outputs": [
        {
          "output_type": "execute_result",
          "data": {
            "text/plain": [
              "numpy.ndarray"
            ]
          },
          "metadata": {},
          "execution_count": 27
        }
      ]
    },
    {
      "cell_type": "code",
      "source": [
        "# Downsample by taking every 4th sample (since 125 Hz is 1/4 of 500 Hz)\n",
        "data_v2 = data_dn[7] #V2 lead, positive volt, 8th row\n",
        "data_v5 = data_dn[10] #V5 lead, positive volt, 11th row\n",
        "data_v1 = data_dn[6] #V1 lead, negative volt, 7th row\n",
        "data_v6 = data_dn[11] #V6 lead, negative volt, 12th row\n"
      ],
      "metadata": {
        "id": "nEfG1wwBTanT"
      },
      "execution_count": 28,
      "outputs": []
    },
    {
      "cell_type": "code",
      "source": [],
      "metadata": {
        "id": "-g61MPdITaqs"
      },
      "execution_count": null,
      "outputs": []
    },
    {
      "cell_type": "code",
      "source": [
        "# Head header file, assuming text format. \"with open\" function used.\n",
        "with open(file2, \"r\") as file:\n",
        "    content = file.read()\n",
        "    print(content)"
      ],
      "metadata": {
        "colab": {
          "base_uri": "https://localhost:8080/"
        },
        "id": "Oidf1ZSBKUdp",
        "outputId": "6848bb29-4424-4624-9f91-ea36d0b93475"
      },
      "execution_count": 15,
      "outputs": [
        {
          "output_type": "stream",
          "name": "stdout",
          "text": [
            "HR00001 12 500 5000\n",
            "HR00001.mat 16x1+24 1000.0(0)/mv 16 0 -115 13047 0 I\n",
            "HR00001.mat 16x1+24 1000.0(0)/mv 16 0 -50 11561 0 II\n",
            "HR00001.mat 16x1+24 1000.0(0)/mv 16 0 65 -1486 0 III\n",
            "HR00001.mat 16x1+24 1000.0(0)/mv 16 0 82 -12346 0 aVR\n",
            "HR00001.mat 16x1+24 1000.0(0)/mv 16 0 -90 7539 0 aVL\n",
            "HR00001.mat 16x1+24 1000.0(0)/mv 16 0 7 5145 0 aVF\n",
            "HR00001.mat 16x1+24 1000.0(0)/mv 16 0 -65 -5719 0 V1\n",
            "HR00001.mat 16x1+24 1000.0(0)/mv 16 0 -40 -21509 0 V2\n",
            "HR00001.mat 16x1+24 1000.0(0)/mv 16 0 -5 -1304 0 V3\n",
            "HR00001.mat 16x1+24 1000.0(0)/mv 16 0 -35 -15227 0 V4\n",
            "HR00001.mat 16x1+24 1000.0(0)/mv 16 0 -35 4821 0 V5\n",
            "HR00001.mat 16x1+24 1000.0(0)/mv 16 0 -75 12159 0 V6\n",
            "# Age: 56\n",
            "# Sex: Female\n",
            "# Dx: 251146004,426783006\n",
            "# Rx: Unknown\n",
            "# Hx: Unknown\n",
            "# Sx: Unknown\n",
            "\n"
          ]
        }
      ]
    },
    {
      "cell_type": "code",
      "source": [],
      "metadata": {
        "id": "6SuXzdbxKUgM"
      },
      "execution_count": null,
      "outputs": []
    },
    {
      "cell_type": "code",
      "source": [
        "# Detect peaks using scipy.signal library\n",
        "# import scipy.signal as signal"
      ],
      "metadata": {
        "id": "AlBu4NEzKUjL"
      },
      "execution_count": 30,
      "outputs": []
    },
    {
      "cell_type": "markdown",
      "source": [
        "# ChatGPT Signal processing example:  \n",
        "\n",
        "Here's an example Python script to achieve this:\n",
        "```python\n",
        "import numpy as np\n",
        "import scipy.signal as signal\n",
        "import matplotlib.pyplot as plt\n",
        "\n",
        "# Simulated ECG signal (replace this with actual ECG data)\n",
        "sampling_rate = 125  # Hz\n",
        "signal_length = 10  # seconds\n",
        "ecg_signal = np.sin(np.linspace(0, 4 * np.pi, sampling_rate * signal_length))  # Simulated signal\n",
        "\n",
        "# Define window size\n",
        "window_size = int(1.5 * sampling_rate)  # 1.5 seconds window\n",
        "\n",
        "# Find peaks (modify parameters based on your ECG morphology)\n",
        "peaks, _ = signal.find_peaks(ecg_signal, height=0.5, distance=sampling_rate//2)\n",
        "\n",
        "# Extract windows centered on peaks\n",
        "windows = []\n",
        "for peak in peaks:\n",
        "    start = peak - window_size // 2\n",
        "    end = peak + window_size // 2\n",
        "\n",
        "    # Handle boundary conditions with zero-padding\n",
        "    if start < 0:\n",
        "        window = np.pad(ecg_signal[:end], (abs(start), 0), mode='constant')\n",
        "    elif end > len(ecg_signal):\n",
        "        window = np.pad(ecg_signal[start:], (0, end - len(ecg_signal)), mode='constant')\n",
        "    else:\n",
        "        window = ecg_signal[start:end]\n",
        "\n",
        "    windows.append(window)\n",
        "\n",
        "# Plot an example window\n",
        "plt.plot(windows[0])\n",
        "plt.title(\"Example ECG Window\")\n",
        "plt.xlabel(\"Time (samples)\")\n",
        "plt.ylabel(\"Amplitude\")\n",
        "plt.show()\n",
        "```"
      ],
      "metadata": {
        "id": "tDk2DD-9YnqY"
      }
    },
    {
      "cell_type": "code",
      "source": [
        "# Define signal, one at a time\n",
        "ecg_signal = data_v2\n",
        "\n",
        "# define sampling rate\n",
        "sampling_rate = 125\n",
        "\n",
        "# Define window size\n",
        "window_size = int(1.5 * sampling_rate)  # 1.5 seconds window\n",
        "\n",
        "# Find peaks (modify parameters based on your ECG morphology)\n",
        "peaks, _ = signal.find_peaks(ecg_signal, height=0.5, distance=sampling_rate//2)\n",
        "\n",
        "# Extract windows centered on peaks\n",
        "windows = []\n",
        "for peak in peaks:\n",
        "    start = peak - window_size // 2\n",
        "    end = peak + window_size // 2\n",
        "\n",
        "    # Handle boundary conditions with zero-padding\n",
        "    if start < 0:\n",
        "        window = np.pad(ecg_signal[:end], (abs(start), 0), mode='constant')\n",
        "    elif end > len(ecg_signal):\n",
        "        window = np.pad(ecg_signal[start:], (0, end - len(ecg_signal)), mode='constant')\n",
        "    else:\n",
        "        window = ecg_signal[start:end]\n",
        "\n",
        "    windows.append(window)"
      ],
      "metadata": {
        "id": "5DIyOrPKKUl1"
      },
      "execution_count": 31,
      "outputs": []
    },
    {
      "cell_type": "code",
      "source": [
        "# Plot an example window\n",
        "plt.plot(windows[0])\n",
        "plt.title(\"Example ECG Window\")\n",
        "plt.xlabel(\"Time (samples)\")\n",
        "plt.ylabel(\"Amplitude\")\n",
        "plt.show()"
      ],
      "metadata": {
        "colab": {
          "base_uri": "https://localhost:8080/",
          "height": 472
        },
        "id": "wVpoS5nQKUo6",
        "outputId": "14e0f06a-3696-45b3-bcbb-62d8c6ed7d86"
      },
      "execution_count": 42,
      "outputs": [
        {
          "output_type": "display_data",
          "data": {
            "text/plain": [
              "<Figure size 640x480 with 1 Axes>"
            ],
            "image/png": "[encoded data removed]"
          },
          "metadata": {}
        }
      ]
    },
    {
      "cell_type": "code",
      "source": [
        "windows[0].shape"
      ],
      "metadata": {
        "colab": {
          "base_uri": "https://localhost:8080/"
        },
        "id": "lJULP53wKUsY",
        "outputId": "e2ae8609-7431-4156-d42b-4ee5a59dacdc"
      },
      "execution_count": 39,
      "outputs": [
        {
          "output_type": "execute_result",
          "data": {
            "text/plain": [
              "(186,)"
            ]
          },
          "metadata": {},
          "execution_count": 39
        }
      ]
    },
    {
      "cell_type": "code",
      "source": [
        "len(windows[5])"
      ],
      "metadata": {
        "id": "-yvy-NoXbDVp",
        "outputId": "ae338455-7a6c-4336-e8b4-7bca87fada78",
        "colab": {
          "base_uri": "https://localhost:8080/"
        }
      },
      "execution_count": 40,
      "outputs": [
        {
          "output_type": "execute_result",
          "data": {
            "text/plain": [
              "186"
            ]
          },
          "metadata": {},
          "execution_count": 40
        }
      ]
    },
    {
      "cell_type": "code",
      "source": [
        "peaks # numpy array, position of peack, along x-axis, at sampleing rate."
      ],
      "metadata": {
        "id": "fMXgcfgicBaa",
        "outputId": "2bed136b-c24b-4253-e4bf-1d9093eb018c",
        "colab": {
          "base_uri": "https://localhost:8080/"
        }
      },
      "execution_count": 41,
      "outputs": [
        {
          "output_type": "execute_result",
          "data": {
            "text/plain": [
              "array([  26,  142,  258,  374,  490,  608,  727,  847,  965, 1079, 1200])"
            ]
          },
          "metadata": {},
          "execution_count": 41
        }
      ]
    },
    {
      "cell_type": "markdown",
      "source": [
        "## Works!.  \n",
        "To do next:  \n",
        "Look carefully at each peak, compare with source data.  \n",
        "Try other leads.  \n",
        "Come up with fast way to split many files.  \n",
        "Run simple CNN, one lead at a time, but feed all 12 leads.  \n",
        "Use negative signals (keep as transforms, negative inverted image)  \n",
        "\n",
        "Time 2:15 am Sunday Feb 23 stopped for now.  "
      ],
      "metadata": {
        "id": "jvBmwItdcy2H"
      }
    },
    {
      "cell_type": "markdown",
      "source": [],
      "metadata": {
        "id": "BefWkPsGcy7u"
      }
    },
    {
      "cell_type": "code",
      "source": [],
      "metadata": {
        "id": "UEvtkSNWcBdE"
      },
      "execution_count": null,
      "outputs": []
    },
    {
      "cell_type": "code",
      "source": [],
      "metadata": {
        "id": "CxpwyWAWcBgX"
      },
      "execution_count": null,
      "outputs": []
    }
  ]
}
